{
  "cells": [
    {
      "cell_type": "markdown",
      "metadata": {},
      "source": [
        "# BEE 4750 Lab 2: Uncertainty and Monte Carlo"
      ],
      "id": "65f222ee-e398-4c4b-8ad3-0e243708ba74"
    },
    {
      "cell_type": "markdown",
      "metadata": {},
      "source": [
        "**Name**:\n",
        "\n",
        "**ID**:"
      ],
      "id": "48d4ab05-62ab-4db0-bfae-99a0c8d4fc42"
    },
    {
      "cell_type": "markdown",
      "metadata": {},
      "source": [
        "> **Due Date**\n",
        ">\n",
        "> Friday, 9/22/23, 9:00pm\n",
        "\n",
        "## Setup\n",
        "\n",
        "The following code should go at the top of most Julia scripts; it will\n",
        "load the local package environment and install any needed packages. You\n",
        "will see this often and shouldn’t need to touch it."
      ],
      "id": "004d03cc-4b72-4066-8e20-cab03a44558a"
    },
    {
      "cell_type": "code",
      "execution_count": 1,
      "metadata": {},
      "outputs": [],
      "source": [
        "import Pkg\n",
        "Pkg.activate(\".\")\n",
        "Pkg.instantiate()"
      ],
      "id": "399dbae4"
    },
    {
      "cell_type": "code",
      "execution_count": 2,
      "metadata": {},
      "outputs": [],
      "source": [
        "using Random # random number generation\n",
        "using Distributions # probability distributions and interface\n",
        "using Statistics # basic statistical functions, including mean\n",
        "using Plots # plotting"
      ],
      "id": "337fff56"
    },
    {
      "cell_type": "markdown",
      "metadata": {},
      "source": [
        "## Introduction\n",
        "\n",
        "In this lab, you will use Monte Carlo analysis to estimate the expected\n",
        "winnings for a couple of different games of chance.\n",
        "\n",
        "Monte Carlo methods involve the simulation of random numbers from\n",
        "probability distributions. In an environmental context, we often\n",
        "propagate these random numbers through some more complicated model and\n",
        "then compute a resulting statistic which is relevant for assessing\n",
        "performance or risk, such as an average outcome or a particular\n",
        "quantile.\n",
        "\n",
        "Julia provides a common interface for probability distributions with the\n",
        "[`Distributions.jl`\n",
        "package](https://juliastats.org/Distributions.jl/stable/). The basic\n",
        "workflow for sampling from a distribution is:\n",
        "\n",
        "1.  Set up the distribution. The specific syntax depends on the\n",
        "    distribution and what parameters are required, but the general call\n",
        "    is the similar. For a normal distribution or a uniform distribution,\n",
        "    the syntax is\n",
        "    `julia     # you don't have to name this \"normal_distribution\"     # μ is the mean and σ is the standard deviation     normal_distribution = Normal(μ, σ)     # a is the upper bound and b is the lower bound; these can be set to +Inf or -Inf for an unbounded distribution in one or both directions.     uniform_distribution = Uniform(a, b)`\n",
        "\n",
        "    There are lots of both\n",
        "    [univariate](https://juliastats.org/Distributions.jl/stable/univariate/#Index)\n",
        "    and\n",
        "    [multivariate](https://juliastats.org/Distributions.jl/stable/multivariate/)\n",
        "    distributions, as well as the ability to create your own, but we\n",
        "    won’t do anything too exotic here.\n",
        "\n",
        "2.  Draw samples. This uses the `rand()` command (which, when used\n",
        "    without a distribution, just samples uniformly from the interval\n",
        "    $[0, 1]$.) For example, to sample from our normal distribution\n",
        "    above: `julia     # draw n samples     rand(normal_distribution, n)`\n",
        "\n",
        "Putting this together, let’s say that we wanted to simulate 100\n",
        "six-sided dice rolls. We could use a [Discrete Uniform\n",
        "distribution](https://juliastats.org/Distributions.jl/stable/univariate/#Distributions.DiscreteUniform)."
      ],
      "id": "dacebb70-b813-408c-833f-163c310765fd"
    },
    {
      "cell_type": "code",
      "execution_count": 3,
      "metadata": {},
      "outputs": [
        {
          "output_type": "display_data",
          "metadata": {},
          "data": {
            "text/plain": [
              "100-element Vector{Int64}:\n",
              " 1\n",
              " 3\n",
              " 6\n",
              " 5\n",
              " 4\n",
              " 4\n",
              " 3\n",
              " 2\n",
              " 6\n",
              " 4\n",
              " 1\n",
              " 3\n",
              " 6\n",
              " ⋮\n",
              " 2\n",
              " 3\n",
              " 6\n",
              " 3\n",
              " 3\n",
              " 3\n",
              " 2\n",
              " 5\n",
              " 4\n",
              " 1\n",
              " 6\n",
              " 6"
            ]
          }
        }
      ],
      "source": [
        "dice_dist = DiscreteUniform(1, 6) # can generate any integer between 1 and 6\n",
        "dice_rolls = rand(dice_dist, 100) # simulate rolls"
      ],
      "id": "568bee55"
    },
    {
      "cell_type": "markdown",
      "metadata": {},
      "source": [
        "And then we can plot a histogram of these rolls:"
      ],
      "id": "f8058ef6-a6b2-48cf-af8e-75903ee8e6c9"
    },
    {
      "cell_type": "code",
      "execution_count": 4,
      "metadata": {},
      "outputs": [
        {
          "output_type": "display_data",
          "metadata": {},
          "data": {
            "text/html": [
              "<img src=\"data:image/png;base64,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\" />"
            ]
          }
        }
      ],
      "source": [
        "histogram(dice_rolls, legend=:false, bins=6)\n",
        "ylabel!(\"Count\")\n",
        "xlabel!(\"Dice Value\")"
      ],
      "id": "d036a757"
    },
    {
      "cell_type": "markdown",
      "metadata": {},
      "source": [
        "**Remember to**:\n",
        "\n",
        "-   Evaluate all of your code cells, in order (using a `Run All`\n",
        "    command). This will make sure all output is visible and that the\n",
        "    code cells were evaluated in the correct order.\n",
        "-   Tag each of the problems when you submit to Gradescope; a 10%\n",
        "    penalty will be deducted if this is not done."
      ],
      "id": "e71c24c3-13eb-41c1-b1de-773758a2c912"
    },
    {
      "cell_type": "markdown",
      "metadata": {},
      "source": [
        "## Exercises (10 points)\n",
        "\n",
        "In Problem 1, you will compute the probability of getting a specific\n",
        "combination of multiple dice rolls. The focus will be on understanding\n",
        "how the Monte Carlo estimate changes based on the number of simulations.\n",
        "\n",
        "In Problem 2, we will implement the culmination of every episode of the\n",
        "long-running game show [The Price Is\n",
        "Right](https://en.wikipedia.org/wiki/The_Price_Is_Right): the\n",
        "[Showcase](https://en.wikipedia.org/wiki/The_Price_Is_Right#Showcase).\n",
        "You will be asked to make a plot of expected winnings by bid for a\n",
        "particular distribution of prize values.\n",
        "\n",
        "You should always start any computing with random numbers by setting a\n",
        "“seed,” which controls the sequence of numbers which are generated\n",
        "(since these are not *really* random, just “pseudorandom”). In Julia, we\n",
        "do this with the `Random.seed!()` function.\n",
        "\n",
        "``` julia\n",
        "Random.seed!(1)\n",
        "```\n",
        "\n",
        "    TaskLocalRNG()\n",
        "\n",
        "It doesn’t matter what seed you set, though different seeds might result\n",
        "in slightly different values. But setting a seed means every time your\n",
        "notebook is run, the answer will be the same.\n",
        "\n",
        "> **Seeds and Reproducing Solutions**\n",
        ">\n",
        "> If you don’t re-run your code in the same order or if you re-run the\n",
        "> same cell repeatedly, you will not get the same solution. If you’re\n",
        "> working on a specific problem, you might want to re-use\n",
        "> `Random.seed()` near any block of code you want to re-evaluate\n",
        "> repeatedly."
      ],
      "id": "c22a219a-24af-4cb0-8564-182535858ea1"
    },
    {
      "cell_type": "markdown",
      "metadata": {},
      "source": [
        "### Problem 1 (5 points)\n",
        "\n",
        "We want to know the probability of getting at least an 11 from rolling\n",
        "three fair, six-sided dice (this is actually an old Italian game called\n",
        "*passadieci*, which was analyzed by Galileo as one of the first examples\n",
        "of a rigorous study of probability)."
      ],
      "id": "8fb3f2e8-447f-4eae-b090-27df38517268"
    },
    {
      "cell_type": "markdown",
      "metadata": {},
      "source": [
        "#### Problem 1.1 (1 point)\n",
        "\n",
        "Write a function called `passadieci()` to simulate this game, which will\n",
        "take as an input the number of realizations and output a vector of the\n",
        "sum of the three dice rolls for each realization."
      ],
      "id": "8f2ad4d0-f1da-4c48-9c7b-302b02b6cd78"
    },
    {
      "cell_type": "markdown",
      "metadata": {},
      "source": [
        "### Problem 1.2 (2 points)\n",
        "\n",
        "Generate 5,000 simulations of the game using your `passadieci()`\n",
        "function. Plot how the computed probability of winning the game changes\n",
        "as the number of simulations increases (you can do this by computing the\n",
        "frequency of wins for each additional simulation)."
      ],
      "id": "b8c6f3e8-27d1-4089-b8b8-c2d64d75a46a"
    },
    {
      "cell_type": "markdown",
      "metadata": {},
      "source": [
        "### Problem 1.3 (2 point)\n",
        "\n",
        "Based on your plot from Problem 1.2, how many simulations were needed\n",
        "for the win probability estimate to converge? What did you notice from\n",
        "your plot about the estimates prior to convergence?"
      ],
      "id": "2db957d5-0adb-4604-98c7-f5bb7bda065e"
    },
    {
      "cell_type": "markdown",
      "metadata": {},
      "source": [
        "## Problem 2 (5 points)\n",
        "\n",
        "The Showcase is the final round of every episode of The Price is Right,\n",
        "matching the two big winners from the episode. Each contestant is shown\n",
        "a “showcase” of prizes, which are usually some combination of a trip, a\n",
        "motor vehicle, some furniture, and maybe some other stuff. They then\n",
        "each have to make a bid on the retail price of the showcase. The rules\n",
        "are:\n",
        "\n",
        "-   an overbid is an automatic loss;\n",
        "-   the contest who gets closest to the retail price wins their\n",
        "    showcase;\n",
        "-   if a contestant gets within \\$250 of the retail price and is closer\n",
        "    than their opponent, they win both showcases.\n",
        "\n",
        "Your goal is to find a wager which maximizes your expected winnings,\n",
        "which we may as well call utility, based on your assessment of the\n",
        "probability of your showcase retail price. We’ll assume that the\n",
        "distribution of all showcases offered by the show is given as truncated\n",
        "normal distribution, which means a normal distribution which has an\n",
        "upper and/or lower bound. `Distributions.jl` makes it easy to specify\n",
        "truncations on any distribution, not just normal distributions. For\n",
        "example, we’ll use this distribution for the showcase values:\n",
        "\n",
        "``` julia\n",
        "showcase_dist = truncated(Normal(31000, 4500), lower=5000, upper=42000)\n",
        "```\n",
        "\n",
        "    Truncated(Normal{Float64}(μ=31000.0, σ=4500.0); lower=5000.0, upper=42000.0)"
      ],
      "id": "d737c49a-6ebd-4d12-9bfe-71e1ad38278c"
    },
    {
      "cell_type": "markdown",
      "metadata": {},
      "source": [
        "#### Problem 2.1 (3 points)\n",
        "\n",
        "Write a function `showcase()` which takes in a bid value and uses Monte\n",
        "Carlo simulation to compute the expected value of the winnings. Make the\n",
        "following assumptions about your expected winnings if you don’t overbid:\n",
        "\n",
        "-   If you win both showcases, the value is the double of the single\n",
        "    showcase value.\n",
        "-   If you did not win both showcases but bid under the showcase value,\n",
        "    the probability of being outbid increases linearly as the distance\n",
        "    between your bid and the value increases (in other words, if you bid\n",
        "    the exact value, you win with probability 1, and if you bid \\$0, you\n",
        "    win with probability 0).\n",
        "\n",
        "How did you decide how many samples to use within the function?"
      ],
      "id": "ab9936e2-a091-44b3-a5af-de58490ff4f0"
    },
    {
      "cell_type": "markdown",
      "metadata": {},
      "source": [
        "#### Problem 2.2 (2 points)\n",
        "\n",
        "Plot the expected winnings for bids ranging from \\$0 to \\$42,000. What\n",
        "do you notice?"
      ],
      "id": "0ac9fbca-876d-41d2-9b5e-3d81a540644b"
    },
    {
      "cell_type": "markdown",
      "metadata": {},
      "source": [
        "## References\n",
        "\n",
        "Put any consulted sources here, including classmates you worked with/who\n",
        "helped you."
      ],
      "id": "41b4cf75-b746-4e75-aacc-10d6bc1a7d40"
    }
  ],
  "nbformat": 4,
  "nbformat_minor": 5,
  "metadata": {
    "kernelspec": {
      "name": "julia-1.9",
      "display_name": "Julia 1.9.3",
      "language": "julia"
    },
    "language_info": {
      "name": "julia",
      "file_extension": ".jl",
      "mimetype": "application/julia",
      "version": "1.9.3"
    }
  }
}