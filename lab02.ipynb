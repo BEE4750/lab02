{
  "cells": [
    {
      "cell_type": "markdown",
      "metadata": {},
      "source": [
        "# BEE 4750 Lab 2: Uncertainty and Monte Carlo"
      ],
      "id": "974fbb1c-e421-4262-a3be-f651d7b5267e"
    },
    {
      "cell_type": "markdown",
      "metadata": {},
      "source": [
        "**Name**:\n",
        "\n",
        "**ID**:"
      ],
      "id": "0b624088-add9-46a6-80d8-3b4fa9a9baa0"
    },
    {
      "cell_type": "markdown",
      "metadata": {},
      "source": [
        "> **Due Date**\n",
        ">\n",
        "> Friday, 9/22/23, 9:00pm\n",
        "\n",
        "## Setup\n",
        "\n",
        "The following code should go at the top of most Julia scripts; it will\n",
        "load the local package environment and install any needed packages. You\n",
        "will see this often and shouldn’t need to touch it."
      ],
      "id": "6a38a435-bc68-40df-86c8-6fba60b8ab93"
    },
    {
      "cell_type": "code",
      "execution_count": 1,
      "metadata": {},
      "outputs": [],
      "source": [
        "import Pkg\n",
        "Pkg.activate(\".\")\n",
        "Pkg.instantiate()"
      ],
      "id": "2b98c72b"
    },
    {
      "cell_type": "code",
      "execution_count": 2,
      "metadata": {},
      "outputs": [],
      "source": [
        "using Random # random number generation\n",
        "using Distributions # probability distributions and interface\n",
        "using Statistics # basic statistical functions, including mean\n",
        "using Plots # plotting"
      ],
      "id": "8e660990"
    },
    {
      "cell_type": "markdown",
      "metadata": {},
      "source": [
        "## Introduction\n",
        "\n",
        "In this lab, you will use Monte Carlo analysis to estimate the expected\n",
        "winnings for a couple of different games of chance.\n",
        "\n",
        "Monte Carlo methods involve the simulation of random numbers from\n",
        "probability distributions. In an environmental context, we often\n",
        "propagate these random numbers through some more complicated model and\n",
        "then compute a resulting statistic which is relevant for assessing\n",
        "performance or risk, such as an average outcome or a particular\n",
        "quantile.\n",
        "\n",
        "Julia provides a common interface for probability distributions with the\n",
        "[`Distributions.jl`\n",
        "package](https://juliastats.org/Distributions.jl/stable/). The basic\n",
        "workflow for sampling from a distribution is:\n",
        "\n",
        "1.  Set up the distribution. The specific syntax depends on the\n",
        "    distribution and what parameters are required, but the general call\n",
        "    is the similar. For a normal distribution or a uniform distribution,\n",
        "    the syntax is\n",
        "    `julia     # you don't have to name this \"normal_distribution\"     # μ is the mean and σ is the standard deviation     normal_distribution = Normal(μ, σ)     # a is the upper bound and b is the lower bound; these can be set to +Inf or -Inf for an unbounded distribution in one or both directions.     uniform_distribution = Uniform(a, b)`\n",
        "\n",
        "    There are lots of both\n",
        "    [univariate](https://juliastats.org/Distributions.jl/stable/univariate/#Index)\n",
        "    and\n",
        "    [multivariate](https://juliastats.org/Distributions.jl/stable/multivariate/)\n",
        "    distributions, as well as the ability to create your own, but we\n",
        "    won’t do anything too exotic here.\n",
        "\n",
        "2.  Draw samples. This uses the `rand()` command (which, when used\n",
        "    without a distribution, just samples uniformly from the interval\n",
        "    $[0, 1]$.) For example, to sample from our normal distribution\n",
        "    above: `julia     # draw n samples     rand(normal_distribution, n)`\n",
        "\n",
        "Putting this together, let’s say that we wanted to simulate 100\n",
        "six-sided dice rolls. We could use a [Discrete Uniform\n",
        "distribution](https://juliastats.org/Distributions.jl/stable/univariate/#Distributions.DiscreteUniform)."
      ],
      "id": "6ceafd0b-eef1-4ac0-b9c5-7a8dc6e82cce"
    },
    {
      "cell_type": "code",
      "execution_count": 3,
      "metadata": {},
      "outputs": [
        {
          "output_type": "display_data",
          "metadata": {},
          "data": {
            "text/plain": [
              "100-element Vector{Int64}:\n",
              " 4\n",
              " 6\n",
              " 1\n",
              " 4\n",
              " 3\n",
              " 2\n",
              " 3\n",
              " 6\n",
              " 6\n",
              " 4\n",
              " 5\n",
              " 2\n",
              " 3\n",
              " ⋮\n",
              " 2\n",
              " 5\n",
              " 2\n",
              " 4\n",
              " 5\n",
              " 3\n",
              " 4\n",
              " 1\n",
              " 4\n",
              " 2\n",
              " 6\n",
              " 5"
            ]
          }
        }
      ],
      "source": [
        "dice_dist = DiscreteUniform(1, 6) # can generate any integer between 1 and 6\n",
        "dice_rolls = rand(dice_dist, 100) # simulate rolls"
      ],
      "id": "801ac973"
    },
    {
      "cell_type": "markdown",
      "metadata": {},
      "source": [
        "And then we can plot a histogram of these rolls:"
      ],
      "id": "6a9e92fa-6bbf-48ff-a09c-b13d4c3cc389"
    },
    {
      "cell_type": "code",
      "execution_count": 4,
      "metadata": {},
      "outputs": [
        {
          "output_type": "display_data",
          "metadata": {},
          "data": {
            "text/html": [
              "<img src=\"data:image/png;base64,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\" />"
            ]
          }
        }
      ],
      "source": [
        "histogram(dice_rolls, legend=:false, bins=6)\n",
        "ylabel!(\"Count\")\n",
        "xlabel!(\"Dice Value\")"
      ],
      "id": "906ec1b7"
    },
    {
      "cell_type": "markdown",
      "metadata": {},
      "source": [
        "**Remember to**:\n",
        "\n",
        "-   Evaluate all of your code cells, in order (using a `Run All`\n",
        "    command). This will make sure all output is visible and that the\n",
        "    code cells were evaluated in the correct order.\n",
        "-   Tag each of the problems when you submit to Gradescope; a 10%\n",
        "    penalty will be deducted if this is not done."
      ],
      "id": "3cfe1c48-df74-450f-b884-448db94c053d"
    },
    {
      "cell_type": "markdown",
      "metadata": {},
      "source": [
        "## Exercises (10 points)\n",
        "\n",
        "In Problem 1, you will compute the probability of getting a specific\n",
        "combination of multiple dice rolls. The focus will be on understanding\n",
        "how the Monte Carlo estimate changes based on the number of simulations.\n",
        "\n",
        "In Problem 2, we will implement the culmination of every episode of the\n",
        "long-running game show [The Price Is\n",
        "Right](https://en.wikipedia.org/wiki/The_Price_Is_Right): the\n",
        "[Showcase](https://en.wikipedia.org/wiki/The_Price_Is_Right#Showcase).\n",
        "You will be asked to make a plot of expected winnings by bid for a\n",
        "particular distribution of prize values.\n",
        "\n",
        "You should always start any computing with random numbers by setting a\n",
        "“seed,” which controls the sequence of numbers which are generated\n",
        "(since these are not *really* random, just “pseudorandom”). In Julia, we\n",
        "do this with the `Random.seed!()` function.\n",
        "\n",
        "``` julia\n",
        "Random.seed!(1)\n",
        "```\n",
        "\n",
        "    TaskLocalRNG()\n",
        "\n",
        "It doesn’t matter what seed you set, though different seeds might result\n",
        "in slightly different values. But setting a seed means every time your\n",
        "notebook is run, the answer will be the same.\n",
        "\n",
        "> **Seeds and Reproducing Solutions**\n",
        ">\n",
        "> If you don’t re-run your code in the same order or if you re-run the\n",
        "> same cell repeatedly, you will not get the same solution. If you’re\n",
        "> working on a specific problem, you might want to re-use\n",
        "> `Random.seed()` near any block of code you want to re-evaluate\n",
        "> repeatedly."
      ],
      "id": "d735c578-f950-443e-8329-22c38ed8cd15"
    },
    {
      "cell_type": "markdown",
      "metadata": {},
      "source": [
        "### Problem 1 (5 points)\n",
        "\n",
        "We want to know the probability of getting at least an 11 from rolling\n",
        "three fair, six-sided dice (this is actually an old Italian game called\n",
        "*passadieci*, which was analyzed by Galileo as one of the first examples\n",
        "of a rigorous study of probability)."
      ],
      "id": "cd6af3ed-be0f-4384-b145-2ba6b0553608"
    },
    {
      "cell_type": "markdown",
      "metadata": {},
      "source": [
        "#### Problem 1.1 (1 point)\n",
        "\n",
        "Write a function called `passadieci()` to simulate this game, which will\n",
        "take as an input the number of realizations and output a vector of the\n",
        "sum of the three dice rolls for each realization."
      ],
      "id": "b0763890-0526-4287-adcf-372834416456"
    },
    {
      "cell_type": "markdown",
      "metadata": {},
      "source": [
        "### Problem 1.2 (2 points)\n",
        "\n",
        "Generate 100,000 simulations of the game using your `passadieci()`\n",
        "function. Plot how the computed probability of winning the game changes\n",
        "as the number of simulations increases (you can do this by computing the\n",
        "frequency of wins for each additional simulation)."
      ],
      "id": "adf265fc-db17-4cf5-adbe-b7599ce8246a"
    },
    {
      "cell_type": "markdown",
      "metadata": {},
      "source": [
        "### Problem 1.3 (2 point)\n",
        "\n",
        "Based on your plot from Problem 1.2, how many simulations were needed\n",
        "for the win probability estimate to converge? What did you notice from\n",
        "your plot about the estimates prior to convergence?"
      ],
      "id": "dca7889e-e344-4d6c-bc3b-97760f485632"
    },
    {
      "cell_type": "markdown",
      "metadata": {},
      "source": [
        "## Problem 2 (5 points)\n",
        "\n",
        "The Showcase is the final round of every episode of The Price is Right,\n",
        "matching the two big winners from the episode. Each contestant is shown\n",
        "a “showcase” of prizes, which are usually some combination of a trip, a\n",
        "motor vehicle, some furniture, and maybe some other stuff. They then\n",
        "each have to make a bid on the retail price of the showcase. The rules\n",
        "are:\n",
        "\n",
        "-   an overbid is an automatic loss;\n",
        "-   the contest who gets closest to the retail price wins their\n",
        "    showcase;\n",
        "-   if a contestant gets within \\$250 of the retail price and is closer\n",
        "    than their opponent, they win both showcases.\n",
        "\n",
        "Your goal is to find a wager which maximizes your expected winnings,\n",
        "which we may as well call utility, based on your assessment of the\n",
        "probability of your showcase retail price. We’ll assume that the\n",
        "distribution of all showcases offered by the show is given as truncated\n",
        "normal distribution, which means a normal distribution which has an\n",
        "upper and/or lower bound. `Distributions.jl` makes it easy to specify\n",
        "truncations on any distribution, not just normal distributions. For\n",
        "example, we’ll use this distribution for the showcase values:\n",
        "\n",
        "``` julia\n",
        "showcase_dist = truncated(Normal(31000, 4500), lower=5000, upper=42000)\n",
        "```\n",
        "\n",
        "    Truncated(Normal{Float64}(μ=31000.0, σ=4500.0); lower=5000.0, upper=42000.0)"
      ],
      "id": "019f0d0a-18a0-4b96-b1da-9cf323ede7d4"
    },
    {
      "cell_type": "markdown",
      "metadata": {},
      "source": [
        "#### Problem 2.1 (3 points)\n",
        "\n",
        "Write a function `showcase()` which takes in a bid value and uses Monte\n",
        "Carlo simulation to compute the expected value of the winnings. Assume\n",
        "that if you win both showcases, the value is the double of the single\n",
        "showcase value. How did you decide how many samples to use within the\n",
        "function?"
      ],
      "id": "0b7d77d2-2be6-475e-8418-745dba9b6449"
    },
    {
      "cell_type": "markdown",
      "metadata": {},
      "source": [
        "#### Problem 2.2 (2 points)\n",
        "\n",
        "Plot the expected winnings for bids ranging from \\$0 to \\$42,000. What\n",
        "do you notice?"
      ],
      "id": "4b9479fe-0ae3-4df6-afe6-d7a34685ac84"
    },
    {
      "cell_type": "markdown",
      "metadata": {},
      "source": [
        "## References\n",
        "\n",
        "Put any consulted sources here, including classmates you worked with/who\n",
        "helped you."
      ],
      "id": "dcb8280b-865a-4c5e-8b64-f8346e2ff994"
    }
  ],
  "nbformat": 4,
  "nbformat_minor": 5,
  "metadata": {
    "kernelspec": {
      "name": "julia-1.9",
      "display_name": "Julia 1.9.3",
      "language": "julia"
    },
    "language_info": {
      "name": "julia",
      "file_extension": ".jl",
      "mimetype": "application/julia",
      "version": "1.9.3"
    }
  }
}