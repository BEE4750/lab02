{
  "cells": [
    {
      "cell_type": "markdown",
      "metadata": {},
      "source": [
        "# BEE 4750 Lab 2: Uncertainty and Monte Carlo"
      ],
      "id": "eadb0540-a941-4a97-8c6a-c21e879b7bab"
    },
    {
      "cell_type": "markdown",
      "metadata": {},
      "source": [
        "**Name**:\n",
        "\n",
        "**ID**:"
      ],
      "id": "fb195d61-6546-4aea-91a6-eea0a6c5ce28"
    },
    {
      "cell_type": "markdown",
      "metadata": {},
      "source": [
        "> **Due Date**\n",
        ">\n",
        "> Friday, 9/22/23, 9:00pm\n",
        "\n",
        "## Setup\n",
        "\n",
        "The following code should go at the top of most Julia scripts; it will\n",
        "load the local package environment and install any needed packages. You\n",
        "will see this often and shouldn’t need to touch it."
      ],
      "id": "f8759e71-6399-4d6f-b2ae-d8e05d79a4b5"
    },
    {
      "cell_type": "code",
      "execution_count": 1,
      "metadata": {},
      "outputs": [],
      "source": [
        "import Pkg\n",
        "Pkg.activate(\".\")\n",
        "Pkg.instantiate()"
      ],
      "id": "ee4795ea"
    },
    {
      "cell_type": "code",
      "execution_count": 2,
      "metadata": {},
      "outputs": [],
      "source": [
        "using Random # random number generation\n",
        "using Distributions # probability distributions and interface\n",
        "using Statistics # basic statistical functions, including mean\n",
        "using Plots # plotting"
      ],
      "id": "bc1ca811"
    },
    {
      "cell_type": "markdown",
      "metadata": {},
      "source": [
        "## Introduction\n",
        "\n",
        "In this lab, you will use Monte Carlo analysis to estimate the expected\n",
        "winnings for a couple of different games of chance.\n",
        "\n",
        "Monte Carlo methods involve the simulation of random numbers from\n",
        "probability distributions. In an environmental context, we often\n",
        "propagate these random numbers through some more complicated model and\n",
        "then compute a resulting statistic which is relevant for assessing\n",
        "performance or risk, such as an average outcome or a particular\n",
        "quantile.\n",
        "\n",
        "Julia provides a common interface for probability distributions with the\n",
        "[`Distributions.jl`\n",
        "package](https://juliastats.org/Distributions.jl/stable/). The basic\n",
        "workflow for sampling from a distribution is:\n",
        "\n",
        "1.  Set up the distribution. The specific syntax depends on the\n",
        "    distribution and what parameters are required, but the general call\n",
        "    is the similar. For a normal distribution or a uniform distribution,\n",
        "    the syntax is\n",
        "\n",
        "    ``` julia\n",
        "    # you don't have to name this \"normal_distribution\"\n",
        "    # μ is the mean and σ is the standard deviation\n",
        "    normal_distribution = Normal(μ, σ)\n",
        "    # a is the upper bound and b is the lower bound; these can be set to +Inf or -Inf for an unbounded distribution in one or both directions.\n",
        "    uniform_distribution = Uniform(a, b)\n",
        "    ```\n",
        "\n",
        "    There are lots of both\n",
        "    [univariate](https://juliastats.org/Distributions.jl/stable/univariate/#Index)\n",
        "    and\n",
        "    [multivariate](https://juliastats.org/Distributions.jl/stable/multivariate/)\n",
        "    distributions, as well as the ability to create your own, but we\n",
        "    won’t do anything too exotic here.\n",
        "\n",
        "2.  Draw samples. This uses the `rand()` command (which, when used\n",
        "    without a distribution, just samples uniformly from the interval\n",
        "    $[0, 1]$.) For example, to sample from our normal distribution\n",
        "    above:\n",
        "\n",
        "    ``` julia\n",
        "    # draw n samples\n",
        "    rand(normal_distribution, n)\n",
        "    ```\n",
        "\n",
        "Putting this together, let’s say that we wanted to simulate 100\n",
        "six-sided dice rolls. We could use a [Discrete Uniform\n",
        "distribution](https://juliastats.org/Distributions.jl/stable/univariate/#Distributions.DiscreteUniform)."
      ],
      "id": "b8d1c920-78c4-43f7-ad4b-c6375a31d20e"
    },
    {
      "cell_type": "code",
      "execution_count": 3,
      "metadata": {},
      "outputs": [
        {
          "output_type": "display_data",
          "metadata": {},
          "data": {
            "text/plain": [
              "100-element Vector{Int64}:\n",
              " 4\n",
              " 6\n",
              " 3\n",
              " 6\n",
              " 1\n",
              " 5\n",
              " 3\n",
              " 4\n",
              " 3\n",
              " 1\n",
              " 1\n",
              " 1\n",
              " 1\n",
              " ⋮\n",
              " 1\n",
              " 5\n",
              " 4\n",
              " 2\n",
              " 4\n",
              " 3\n",
              " 4\n",
              " 4\n",
              " 2\n",
              " 3\n",
              " 6\n",
              " 3"
            ]
          }
        }
      ],
      "source": [
        "dice_dist = DiscreteUniform(1, 6) # can generate any integer between 1 and 6\n",
        "dice_rolls = rand(dice_dist, 100) # simulate rolls"
      ],
      "id": "21a7694d"
    },
    {
      "cell_type": "markdown",
      "metadata": {},
      "source": [
        "And then we can plot a histogram of these rolls:"
      ],
      "id": "ebe22457-c336-45ab-a0a0-451555fa0f0c"
    },
    {
      "cell_type": "code",
      "execution_count": 4,
      "metadata": {},
      "outputs": [
        {
          "output_type": "display_data",
          "metadata": {},
          "data": {
            "text/html": [
              "<img src=\"data:image/png;base64,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\" />"
            ]
          }
        }
      ],
      "source": [
        "histogram(dice_rolls, legend=:false, bins=6)\n",
        "ylabel!(\"Count\")\n",
        "xlabel!(\"Dice Value\")"
      ],
      "id": "d57de3c1"
    },
    {
      "cell_type": "markdown",
      "metadata": {},
      "source": [
        "**Remember to**:\n",
        "\n",
        "-   Evaluate all of your code cells, in order (using a `Run All`\n",
        "    command). This will make sure all output is visible and that the\n",
        "    code cells were evaluated in the correct order.\n",
        "-   Tag each of the problems when you submit to Gradescope; a 10%\n",
        "    penalty will be deducted if this is not done."
      ],
      "id": "9e2af7c7-78f9-4d13-b799-5be1e8781f4b"
    },
    {
      "cell_type": "markdown",
      "metadata": {},
      "source": [
        "## Exercises (10 points)\n",
        "\n",
        "In Problem 1, you will compute the probability of getting a specific\n",
        "combination of multiple dice rolls. The focus will be on understanding\n",
        "how the Monte Carlo estimate changes based on the number of simulations.\n",
        "\n",
        "In Problem 2, we will implement the culmination of every episode of the\n",
        "long-running game show [The Price Is\n",
        "Right](https://en.wikipedia.org/wiki/The_Price_Is_Right): the\n",
        "[Showcase](https://en.wikipedia.org/wiki/The_Price_Is_Right#Showcase).\n",
        "You will be asked to make a plot of expected winnings by bid for a\n",
        "particular distribution of prize values.\n",
        "\n",
        "You should always start any computing with random numbers by setting a\n",
        "“seed,” which controls the sequence of numbers which are generated\n",
        "(since these are not *really* random, just “pseudorandom”). In Julia, we\n",
        "do this with the `Random.seed!()` function.\n",
        "\n",
        "``` julia\n",
        "Random.seed!(1)\n",
        "```\n",
        "\n",
        "    TaskLocalRNG()\n",
        "\n",
        "It doesn’t matter what seed you set, though different seeds might result\n",
        "in slightly different values. But setting a seed means every time your\n",
        "notebook is run, the answer will be the same.\n",
        "\n",
        "> **Seeds and Reproducing Solutions**\n",
        ">\n",
        "> If you don’t re-run your code in the same order or if you re-run the\n",
        "> same cell repeatedly, you will not get the same solution. If you’re\n",
        "> working on a specific problem, you might want to re-use\n",
        "> `Random.seed()` near any block of code you want to re-evaluate\n",
        "> repeatedly."
      ],
      "id": "3bd5fdc8-2dd6-47e5-b9fe-391bb9ea51ba"
    },
    {
      "cell_type": "markdown",
      "metadata": {},
      "source": [
        "### Problem 1 (5 points)\n",
        "\n",
        "We want to know the probability of getting at least an 11 from rolling\n",
        "three fair, six-sided dice (this is actually an old Italian game called\n",
        "*passadieci*, which was analyzed by Galileo as one of the first examples\n",
        "of a rigorous study of probability)."
      ],
      "id": "c9cbc8d5-2cd1-4315-ba44-98fb8e7065f5"
    },
    {
      "cell_type": "markdown",
      "metadata": {},
      "source": [
        "#### Problem 1.1 (1 point)\n",
        "\n",
        "Write a function called `passadieci()` to simulate this game, which will\n",
        "take as an input the number of realizations and output a vector of the\n",
        "sum of the three dice rolls for each realization."
      ],
      "id": "90277c08-7d25-49ed-a869-3552972dfaa5"
    },
    {
      "cell_type": "markdown",
      "metadata": {},
      "source": [
        "### Problem 1.2 (2 points)\n",
        "\n",
        "Generate 5,000 simulations of the game using your `passadieci()`\n",
        "function. Plot how the computed probability of winning the game changes\n",
        "as the number of simulations increases (you can do this by computing the\n",
        "frequency of wins for each additional simulation)."
      ],
      "id": "8d995585-1ba3-440b-9e5f-2ab8e51fedcc"
    },
    {
      "cell_type": "markdown",
      "metadata": {},
      "source": [
        "### Problem 1.3 (2 point)\n",
        "\n",
        "Based on your plot from Problem 1.2, how many simulations were needed\n",
        "for the win probability estimate to converge? What did you notice from\n",
        "your plot about the estimates prior to convergence?"
      ],
      "id": "ebb17e3b-1a0a-45af-bed5-a1b08311a3cb"
    },
    {
      "cell_type": "markdown",
      "metadata": {},
      "source": [
        "## Problem 2 (5 points)\n",
        "\n",
        "The Showcase is the final round of every episode of The Price is Right,\n",
        "matching the two big winners from the episode. Each contestant is shown\n",
        "a “showcase” of prizes, which are usually some combination of a trip, a\n",
        "motor vehicle, some furniture, and maybe some other stuff. They then\n",
        "each have to make a bid on the retail price of the showcase. The rules\n",
        "are:\n",
        "\n",
        "-   an overbid is an automatic loss;\n",
        "-   the contest who gets closest to the retail price wins their\n",
        "    showcase;\n",
        "-   if a contestant gets within \\$250 of the retail price and is closer\n",
        "    than their opponent, they win both showcases.\n",
        "\n",
        "Your goal is to find a wager which maximizes your expected winnings,\n",
        "which we may as well call utility, based on your assessment of the\n",
        "probability of your showcase retail price. We’ll assume that the\n",
        "distribution of all showcases offered by the show is given as truncated\n",
        "normal distribution, which means a normal distribution which has an\n",
        "upper and/or lower bound. `Distributions.jl` makes it easy to specify\n",
        "truncations on any distribution, not just normal distributions. For\n",
        "example, we’ll use this distribution for the showcase values:\n",
        "\n",
        "``` julia\n",
        "showcase_dist = truncated(Normal(31000, 4500), lower=5000, upper=42000)\n",
        "```\n",
        "\n",
        "    Truncated(Normal{Float64}(μ=31000.0, σ=4500.0); lower=5000.0, upper=42000.0)"
      ],
      "id": "cd02838a-ff78-410a-bd55-42fcd0738ab7"
    },
    {
      "cell_type": "markdown",
      "metadata": {},
      "source": [
        "#### Problem 2.1 (3 points)\n",
        "\n",
        "Write a function `showcase()` which takes in a bid value and uses Monte\n",
        "Carlo simulation to compute the expected value of the winnings. Make the\n",
        "following assumptions about your expected winnings if you don’t overbid:\n",
        "\n",
        "-   If you win both showcases, the value is the double of the single\n",
        "    showcase value.\n",
        "-   If you did not win both showcases but bid under the showcase value,\n",
        "    the probability of being outbid increases linearly as the distance\n",
        "    between your bid and the value increases (in other words, if you bid\n",
        "    the exact value, you win with probability 1, and if you bid \\$0, you\n",
        "    win with probability 0).\n",
        "\n",
        "How did you decide how many samples to use within the function?"
      ],
      "id": "0d6b2bc7-488f-4f21-b3ed-d609fa11b98b"
    },
    {
      "cell_type": "markdown",
      "metadata": {},
      "source": [
        "#### Problem 2.2 (2 points)\n",
        "\n",
        "Plot the expected winnings for bids ranging from \\$0 to \\$42,000. What\n",
        "do you notice?"
      ],
      "id": "2da77b59-845e-4579-9ed0-82f1f91c8edc"
    },
    {
      "cell_type": "markdown",
      "metadata": {},
      "source": [
        "## References\n",
        "\n",
        "Put any consulted sources here, including classmates you worked with/who\n",
        "helped you."
      ],
      "id": "e680ea2d-d6ba-4a78-b829-e13d058fee3c"
    }
  ],
  "nbformat": 4,
  "nbformat_minor": 5,
  "metadata": {
    "kernelspec": {
      "name": "julia-1.9",
      "display_name": "Julia 1.9.3",
      "language": "julia"
    },
    "language_info": {
      "name": "julia",
      "file_extension": ".jl",
      "mimetype": "application/julia",
      "version": "1.9.3"
    }
  }
}